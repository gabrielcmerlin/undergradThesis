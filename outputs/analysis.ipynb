{
 "cells": [
  {
   "cell_type": "code",
   "execution_count": 1,
   "id": "d5e55ad6",
   "metadata": {},
   "outputs": [],
   "source": [
    "import numpy as np\n",
    "import pandas as pd\n",
    "\n",
    "from aeon.visualisation import plot_critical_difference\n",
    "from aeon.visualisation import plot_pairwise_scatter\n",
    "\n",
    "import matplotlib.pyplot as plt\n",
    "import matplotlib.image as mpimg\n",
    "\n",
    "from sklearn.preprocessing import MinMaxScaler\n",
    "\n",
    "import json"
   ]
  },
  {
   "cell_type": "code",
   "execution_count": 2,
   "id": "aaa389d1",
   "metadata": {},
   "outputs": [],
   "source": [
    "mlp = pd.read_csv('results/[end] MLP.csv')\n",
    "fcn = pd.read_csv('results/[end] FCN.csv')\n",
    "convtran = pd.read_csv('results/[end] ConvTran.csv')\n",
    "tsermamba = pd.read_csv('results/TSERMamba.csv')"
   ]
  },
  {
   "cell_type": "code",
   "execution_count": 3,
   "id": "52d620e9",
   "metadata": {},
   "outputs": [
    {
     "data": {
      "text/html": [
       "<div>\n",
       "<style scoped>\n",
       "    .dataframe tbody tr th:only-of-type {\n",
       "        vertical-align: middle;\n",
       "    }\n",
       "\n",
       "    .dataframe tbody tr th {\n",
       "        vertical-align: top;\n",
       "    }\n",
       "\n",
       "    .dataframe thead th {\n",
       "        text-align: right;\n",
       "    }\n",
       "</style>\n",
       "<table border=\"1\" class=\"dataframe\">\n",
       "  <thead>\n",
       "    <tr style=\"text-align: right;\">\n",
       "      <th></th>\n",
       "      <th>mlp</th>\n",
       "      <th>fcn</th>\n",
       "      <th>convtran</th>\n",
       "      <th>tsermamba</th>\n",
       "    </tr>\n",
       "    <tr>\n",
       "      <th>dataset</th>\n",
       "      <th></th>\n",
       "      <th></th>\n",
       "      <th></th>\n",
       "      <th></th>\n",
       "    </tr>\n",
       "  </thead>\n",
       "  <tbody>\n",
       "    <tr>\n",
       "      <th>AppliancesEnergy</th>\n",
       "      <td>3.416436</td>\n",
       "      <td>2.829873</td>\n",
       "      <td>2.778814</td>\n",
       "      <td>3.541914</td>\n",
       "    </tr>\n",
       "    <tr>\n",
       "      <th>BIDMC32HR</th>\n",
       "      <td>13.443014</td>\n",
       "      <td>7.273788</td>\n",
       "      <td>4.585035</td>\n",
       "      <td>9.967628</td>\n",
       "    </tr>\n",
       "    <tr>\n",
       "      <th>BIDMC32RR</th>\n",
       "      <td>3.663970</td>\n",
       "      <td>4.072824</td>\n",
       "      <td>3.713405</td>\n",
       "      <td>4.956176</td>\n",
       "    </tr>\n",
       "    <tr>\n",
       "      <th>BIDMC32SpO2</th>\n",
       "      <td>4.689669</td>\n",
       "      <td>5.555124</td>\n",
       "      <td>5.184596</td>\n",
       "      <td>5.029221</td>\n",
       "    </tr>\n",
       "    <tr>\n",
       "      <th>BeijingPM10Quality</th>\n",
       "      <td>119.633397</td>\n",
       "      <td>117.574150</td>\n",
       "      <td>127.223239</td>\n",
       "      <td>116.608201</td>\n",
       "    </tr>\n",
       "    <tr>\n",
       "      <th>BeijingPM25Quality</th>\n",
       "      <td>87.844715</td>\n",
       "      <td>84.335811</td>\n",
       "      <td>94.716624</td>\n",
       "      <td>89.679407</td>\n",
       "    </tr>\n",
       "    <tr>\n",
       "      <th>BenzeneConcentration</th>\n",
       "      <td>4.234673</td>\n",
       "      <td>3.338947</td>\n",
       "      <td>3.564750</td>\n",
       "      <td>4.468293</td>\n",
       "    </tr>\n",
       "    <tr>\n",
       "      <th>Covid3Month</th>\n",
       "      <td>0.047392</td>\n",
       "      <td>0.060006</td>\n",
       "      <td>0.050733</td>\n",
       "      <td>0.043434</td>\n",
       "    </tr>\n",
       "    <tr>\n",
       "      <th>FloodModeling1</th>\n",
       "      <td>0.017775</td>\n",
       "      <td>0.015911</td>\n",
       "      <td>0.018034</td>\n",
       "      <td>0.021686</td>\n",
       "    </tr>\n",
       "    <tr>\n",
       "      <th>FloodModeling2</th>\n",
       "      <td>0.019323</td>\n",
       "      <td>0.014856</td>\n",
       "      <td>0.009882</td>\n",
       "      <td>0.006953</td>\n",
       "    </tr>\n",
       "    <tr>\n",
       "      <th>FloodModeling3</th>\n",
       "      <td>0.022151</td>\n",
       "      <td>0.026731</td>\n",
       "      <td>0.021706</td>\n",
       "      <td>0.020599</td>\n",
       "    </tr>\n",
       "    <tr>\n",
       "      <th>HouseholdPowerConsumption1</th>\n",
       "      <td>309.952592</td>\n",
       "      <td>196.245252</td>\n",
       "      <td>195.464799</td>\n",
       "      <td>363.717887</td>\n",
       "    </tr>\n",
       "    <tr>\n",
       "      <th>HouseholdPowerConsumption2</th>\n",
       "      <td>67.144667</td>\n",
       "      <td>43.054153</td>\n",
       "      <td>44.591443</td>\n",
       "      <td>55.159620</td>\n",
       "    </tr>\n",
       "    <tr>\n",
       "      <th>IEEEPPG</th>\n",
       "      <td>48.269749</td>\n",
       "      <td>39.462475</td>\n",
       "      <td>31.065420</td>\n",
       "      <td>30.616588</td>\n",
       "    </tr>\n",
       "    <tr>\n",
       "      <th>LiveFuelMoistureContent</th>\n",
       "      <td>48.716879</td>\n",
       "      <td>54.128528</td>\n",
       "      <td>56.480414</td>\n",
       "      <td>45.751672</td>\n",
       "    </tr>\n",
       "  </tbody>\n",
       "</table>\n",
       "</div>"
      ],
      "text/plain": [
       "                                   mlp         fcn    convtran   tsermamba\n",
       "dataset                                                                   \n",
       "AppliancesEnergy              3.416436    2.829873    2.778814    3.541914\n",
       "BIDMC32HR                    13.443014    7.273788    4.585035    9.967628\n",
       "BIDMC32RR                     3.663970    4.072824    3.713405    4.956176\n",
       "BIDMC32SpO2                   4.689669    5.555124    5.184596    5.029221\n",
       "BeijingPM10Quality          119.633397  117.574150  127.223239  116.608201\n",
       "BeijingPM25Quality           87.844715   84.335811   94.716624   89.679407\n",
       "BenzeneConcentration          4.234673    3.338947    3.564750    4.468293\n",
       "Covid3Month                   0.047392    0.060006    0.050733    0.043434\n",
       "FloodModeling1                0.017775    0.015911    0.018034    0.021686\n",
       "FloodModeling2                0.019323    0.014856    0.009882    0.006953\n",
       "FloodModeling3                0.022151    0.026731    0.021706    0.020599\n",
       "HouseholdPowerConsumption1  309.952592  196.245252  195.464799  363.717887\n",
       "HouseholdPowerConsumption2   67.144667   43.054153   44.591443   55.159620\n",
       "IEEEPPG                      48.269749   39.462475   31.065420   30.616588\n",
       "LiveFuelMoistureContent      48.716879   54.128528   56.480414   45.751672"
      ]
     },
     "execution_count": 3,
     "metadata": {},
     "output_type": "execute_result"
    }
   ],
   "source": [
    "mlp = mlp.sort_values(by='dataset').set_index('dataset')\n",
    "fcn = fcn.sort_values(by='dataset').set_index('dataset')\n",
    "convtran = convtran.sort_values(by='dataset').set_index('dataset')\n",
    "tsermamba = tsermamba.sort_values(by='dataset').set_index('dataset')\n",
    "\n",
    "metrics = pd.DataFrame({\n",
    "    'mlp': mlp['rmse'],\n",
    "    'fcn': fcn['rmse'],\n",
    "    'convtran': convtran['rmse'],\n",
    "    'tsermamba': tsermamba['rmse'],\n",
    "})\n",
    "\n",
    "metrics = metrics.dropna(subset=['tsermamba'])\n",
    "\n",
    "metrics"
   ]
  },
  {
   "cell_type": "code",
   "execution_count": 4,
   "id": "ed6d3bed",
   "metadata": {},
   "outputs": [
    {
     "data": {
      "text/plain": [
       "(<Figure size 600x230 with 1 Axes>, <Axes: >)"
      ]
     },
     "execution_count": 4,
     "metadata": {},
     "output_type": "execute_result"
    },
    {
     "data": {
      "image/png": "[encoded data removed]",
      "text/plain": [
       "<Figure size 600x230 with 1 Axes>"
      ]
     },
     "metadata": {},
     "output_type": "display_data"
    }
   ],
   "source": [
    "name = {'mlp':'MLP', 'fcn':'FCN', 'convtran':'ConvTran', 'tsermamba':'TSERMamba'}\n",
    "metrics.columns = [name[col] for col in metrics.columns]\n",
    "\n",
    "plot_critical_difference(\n",
    "    metrics.values,\n",
    "    metrics.columns.tolist(),\n",
    "    test='nemenyi',\n",
    "    lower_better=True,\n",
    "    alpha=0.05\n",
    ")   "
   ]
  },
  {
   "cell_type": "code",
   "execution_count": 5,
   "id": "befeb5a2",
   "metadata": {},
   "outputs": [
    {
     "data": {
      "text/plain": [
       "MLP\n",
       "1.0    2\n",
       "2.0    4\n",
       "3.0    5\n",
       "4.0    4\n",
       "Name: count, dtype: int64"
      ]
     },
     "execution_count": 5,
     "metadata": {},
     "output_type": "execute_result"
    }
   ],
   "source": [
    "metrics.rank(axis=1)['MLP'].value_counts().sort_index()"
   ]
  },
  {
   "cell_type": "code",
   "execution_count": 6,
   "id": "4747d9bc",
   "metadata": {},
   "outputs": [
    {
     "data": {
      "text/plain": [
       "FCN\n",
       "1.0    4\n",
       "2.0    4\n",
       "3.0    4\n",
       "4.0    3\n",
       "Name: count, dtype: int64"
      ]
     },
     "execution_count": 6,
     "metadata": {},
     "output_type": "execute_result"
    }
   ],
   "source": [
    "metrics.rank(axis=1)['FCN'].value_counts().sort_index()"
   ]
  },
  {
   "cell_type": "code",
   "execution_count": 7,
   "id": "f5b7c180",
   "metadata": {},
   "outputs": [
    {
     "data": {
      "text/plain": [
       "TSERMamba\n",
       "1.0    6\n",
       "2.0    1\n",
       "3.0    3\n",
       "4.0    5\n",
       "Name: count, dtype: int64"
      ]
     },
     "execution_count": 7,
     "metadata": {},
     "output_type": "execute_result"
    }
   ],
   "source": [
    "metrics.rank(axis=1)['TSERMamba'].value_counts().sort_index()"
   ]
  },
  {
   "cell_type": "code",
   "execution_count": 8,
   "id": "f626c889",
   "metadata": {},
   "outputs": [
    {
     "data": {
      "text/plain": [
       "ConvTran\n",
       "1.0    3\n",
       "2.0    6\n",
       "3.0    3\n",
       "4.0    3\n",
       "Name: count, dtype: int64"
      ]
     },
     "execution_count": 8,
     "metadata": {},
     "output_type": "execute_result"
    }
   ],
   "source": [
    "metrics.rank(axis=1)['ConvTran'].value_counts().sort_index()"
   ]
  }
 ],
 "metadata": {
  "kernelspec": {
   "display_name": "merlin_thesis",
   "language": "python",
   "name": "python3"
  },
  "language_info": {
   "codemirror_mode": {
    "name": "ipython",
    "version": 3
   },
   "file_extension": ".py",
   "mimetype": "text/x-python",
   "name": "python",
   "nbconvert_exporter": "python",
   "pygments_lexer": "ipython3",
   "version": "3.12.0"
  }
 },
 "nbformat": 4,
 "nbformat_minor": 5
}
